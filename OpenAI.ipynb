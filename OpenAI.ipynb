{
  "nbformat": 4,
  "nbformat_minor": 0,
  "metadata": {
    "colab": {
      "provenance": []
    },
    "kernelspec": {
      "name": "python3",
      "display_name": "Python 3"
    },
    "language_info": {
      "name": "python"
    }
  },
  "cells": [
    {
      "cell_type": "code",
      "execution_count": null,
      "metadata": {
        "id": "Z2Oc7vBUoJbW"
      },
      "outputs": [],
      "source": [
        "pip install openai;\n"
      ]
    },
    {
      "cell_type": "code",
      "source": [
        "from pathlib import Path\n",
        "from openai import OpenAI\n",
        "client = OpenAI(\n",
        "    api_key = \"your-key\"\n",
        ")\n",
        "\n",
        "speech_file_path = \"path/speech.mp3\"\n",
        "response = client.audio.speech.create(\n",
        "  model=\"tts-1\",\n",
        "  voice=\"alloy\",\n",
        "  input=\"Today is a wonderful day to build something people love!\"\n",
        ")\n",
        "\n",
        "response.stream_to_file(speech_file_path)"
      ],
      "metadata": {
        "id": "ZqoAja4eo6th"
      },
      "execution_count": null,
      "outputs": []
    }
  ]
}